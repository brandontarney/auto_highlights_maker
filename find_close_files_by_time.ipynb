{
 "cells": [
  {
   "cell_type": "code",
   "execution_count": 16,
   "metadata": {},
   "outputs": [
    {
     "name": "stdout",
     "output_type": "stream",
     "text": [
      "fortnite_files: ['Fortnite 2022.10.05 - 21.37.30.34.DVR.mp4', 'Fortnite 2022.10.05 - 21.35.31.33.DVR.mp4']\n",
      "date_times: ['22.10.05 - 21.37.33']\n"
     ]
    }
   ],
   "source": [
    "# TODO: List the directories in the Fortnite folder && date_list file\n",
    "import os\n",
    "# fortnite_directory\n",
    "all_files = os.listdir(\"test_videos\")\n",
    "fortnite_files = [files for files in all_files if files.rfind(\"DVR\") >= 0]\n",
    "print(f\"fortnite_files: {fortnite_files}\")\n",
    "with open(\"test_videos/date_list.txt\") as file:\n",
    "    date_times = [line.strip() for line in file if line]\n",
    "\n",
    "print(f\"date_times: {date_times}\")"
   ]
  },
  {
   "cell_type": "code",
   "execution_count": 18,
   "metadata": {},
   "outputs": [
    {
     "name": "stdout",
     "output_type": "stream",
     "text": [
      "fortnite_dates: {datetime.datetime(2022, 10, 5, 21, 37, 30): 'Fortnite 2022.10.05 - 21.37.30.34.DVR.mp4', datetime.datetime(2022, 10, 5, 21, 35, 31): 'Fortnite 2022.10.05 - 21.35.31.33.DVR.mp4'}\n"
     ]
    }
   ],
   "source": [
    "# TODO: Get the date/time of each file && date_list file list\n",
    "from datetime import datetime\n",
    "# Convert to date/time\n",
    "fortnite_date_time_format = \"%Y.%m.%d - %H.%M.%S\"\n",
    "fortnite_dates = dict([ (datetime.strptime(\n",
    "        fortnite_file.replace(\".DVR\", \"\").replace(\"Fortnite \", \"\").replace(\".mp4\",\"\")[:-3],\n",
    "        fortnite_date_time_format), fortnite_file) for fortnite_file in fortnite_files ])\n",
    "print(f\"fortnite_dates: {fortnite_dates}\")\n",
    "# https://www.tutorialsteacher.com/articles/convert-string-to-datetime-in-python\n",
    "# map times to filenames\n",
    "# print everything"
   ]
  },
  {
   "cell_type": "code",
   "execution_count": null,
   "metadata": {},
   "outputs": [],
   "source": [
    "# TODO: Get files that have \"close\" times to date_list file\n",
    "# for every datetime in date_list:\n",
    "    # for every file_datetime:\n",
    "        # find all clips within XXX of datetime\n",
    "# write all clips found to file\n",
    "# print the result\n",
    "# TODO (Bonus) copy the chosen files to the \"uploads\" sub-directory"
   ]
  }
 ],
 "metadata": {
  "kernelspec": {
   "display_name": "Python 3 (ipykernel)",
   "language": "python",
   "name": "python3"
  },
  "language_info": {
   "codemirror_mode": {
    "name": "ipython",
    "version": 3
   },
   "file_extension": ".py",
   "mimetype": "text/x-python",
   "name": "python",
   "nbconvert_exporter": "python",
   "pygments_lexer": "ipython3",
   "version": "3.10.7"
  },
  "vscode": {
   "interpreter": {
    "hash": "e973a2bde28f36062c718b2070ddfb4f7cce44841c2d6ec3ede879b5bb2a4a71"
   }
  }
 },
 "nbformat": 4,
 "nbformat_minor": 2
}
