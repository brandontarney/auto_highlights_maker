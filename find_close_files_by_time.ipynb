{
 "cells": [
  {
   "cell_type": "code",
   "execution_count": 97,
   "metadata": {},
   "outputs": [],
   "source": [
    "from datetime import datetime\n",
    "import os\n",
    "import shutil\n",
    "\n",
    "fortnite_video_directory_path = \"test_videos/\"\n",
    "manual_date_time_file_path = fortnite_video_directory_path + \"/date_list.txt\"\n",
    "selected_files_file_path = fortnite_video_directory_path + \"/selected_files_list.txt\"\n",
    "upload_directory_path = fortnite_video_directory_path + \"/uploads/\"\n",
    "\n",
    "fortnite_clip_search_limit_in_seconds = 60\n",
    "\n",
    "manual_date_time_format = \"%y.%m.%d - %H.%M.%S\"\n",
    "fortnite_highlight_date_time_format = \"%Y.%m.%d - %H.%M.%S\""
   ]
  },
  {
   "cell_type": "code",
   "execution_count": 98,
   "metadata": {},
   "outputs": [
    {
     "name": "stdout",
     "output_type": "stream",
     "text": [
      "fortnite_files: ['Fortnite 2022.10.05 - 21.37.30.34.DVR.mp4', 'Fortnite 2022.10.05 - 21.35.31.33.DVR.mp4']\n",
      "fortnite_game_date_times: [datetime.datetime(2022, 10, 5, 21, 37, 33)]\n"
     ]
    }
   ],
   "source": [
    "# List the directories in the Fortnite folder && date_list file\n",
    "all_files = os.listdir(fortnite_video_directory_path)\n",
    "fortnite_highlight_files = [files.strip() for files in all_files if files.rfind(\"DVR\") >= 0]\n",
    "print(f\"fortnite_files: {fortnite_highlight_files}\")\n",
    "with open(manual_date_time_file_path) as file:\n",
    "    manual_date_times = [datetime.strptime(line.strip(), manual_date_time_format) for line in file if line]\n",
    "\n",
    "print(f\"fortnite_game_date_times: {fortnite_game_date_times}\")"
   ]
  },
  {
   "cell_type": "code",
   "execution_count": 99,
   "metadata": {},
   "outputs": [
    {
     "name": "stdout",
     "output_type": "stream",
     "text": [
      "fortnite_dates: {datetime.datetime(2022, 10, 5, 21, 37, 30): 'Fortnite 2022.10.05 - 21.37.30.34.DVR.mp4', datetime.datetime(2022, 10, 5, 21, 35, 31): 'Fortnite 2022.10.05 - 21.35.31.33.DVR.mp4'}\n"
     ]
    }
   ],
   "source": [
    "# Convert to date/time && map times to filenames\n",
    "fortnite_highlight_date_to_file_map = \\\n",
    "    dict([ (datetime.strptime( \\\n",
    "        fortnite_file.replace(\".DVR\", \"\").replace(\"Fortnite \", \"\").replace(\".mp4\",\"\")[:-3], \\\n",
    "        fortnite_highlight_date_time_format), fortnite_file) for fortnite_file in fortnite_files ])\n",
    "print(f\"fortnite_dates: {fortnite_highlight_date_to_file_map}\")\n"
   ]
  },
  {
   "cell_type": "code",
   "execution_count": 104,
   "metadata": {},
   "outputs": [
    {
     "name": "stdout",
     "output_type": "stream",
     "text": [
      "time_diff: 117.0\n",
      "time_diff: 2.0\n",
      "FOUND A CLIP: Fortnite 2022.10.05 - 21.35.31.33.DVR.mp4\n",
      "files_chosen: {datetime.datetime(2022, 10, 5, 21, 35, 33): ['Fortnite 2022.10.05 - 21.35.31.33.DVR.mp4']}\n"
     ]
    }
   ],
   "source": [
    "# TODO: Get files that have \"close\" times to date_list file\n",
    "files_chosen_for_fortnite_game_times = {} #{manual_date:fortnite_date_list}\n",
    "for manual_date_time in manual_date_times:\n",
    "    for fortnite_file_date_time, fortnite_file in fortnite_highlight_date_to_file_map.items():\n",
    "        absolute_time_diff_in_seconds = abs((manual_date_time - fortnite_file_date_time).total_seconds())\n",
    "        print(f\"time_diff: {absolute_time_diff_in_seconds}\")\n",
    "        if 0 < absolute_time_diff_in_seconds < fortnite_clip_search_limit_in_seconds:\n",
    "            print(f\"FOUND A CLIP: {fortnite_file}\")\n",
    "            if manual_date_time in files_chosen_for_fortnite_game_times:\n",
    "                files_chosen_for_fortnite_game_times[manual_date_time].append(fortnite_file)\n",
    "            else:\n",
    "                files_chosen_for_fortnite_game_times[manual_date_time] = [fortnite_file]\n",
    "\n",
    "print(f\"files_chosen: {files_chosen_for_fortnite_game_times}\")  \n",
    "\n",
    "# write all clips found to file\n",
    "with open(selected_files_file_path, 'w') as selected_files_file:\n",
    "    for (date, files) in files_chosen_for_fortnite_game_times.items():\n",
    "        #selected_files_file.write('\\n'.join(files))\n",
    "        selected_files_file.write(str(date) + '\\n')\n",
    "        for file in files:\n",
    "            selected_files_file.write('\\t' + file)\n",
    "            shutil.copyfile(fortnite_video_directory_path + file, upload_directory_path + file) \n",
    "            "
   ]
  },
  {
   "cell_type": "code",
   "execution_count": null,
   "metadata": {},
   "outputs": [],
   "source": []
  }
 ],
 "metadata": {
  "kernelspec": {
   "display_name": "Python 3 (ipykernel)",
   "language": "python",
   "name": "python3"
  },
  "language_info": {
   "codemirror_mode": {
    "name": "ipython",
    "version": 3
   },
   "file_extension": ".py",
   "mimetype": "text/x-python",
   "name": "python",
   "nbconvert_exporter": "python",
   "pygments_lexer": "ipython3",
   "version": "3.10.7"
  },
  "vscode": {
   "interpreter": {
    "hash": "e973a2bde28f36062c718b2070ddfb4f7cce44841c2d6ec3ede879b5bb2a4a71"
   }
  }
 },
 "nbformat": 4,
 "nbformat_minor": 2
}
