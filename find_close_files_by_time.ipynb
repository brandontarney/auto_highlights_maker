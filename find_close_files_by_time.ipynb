{
 "cells": [
  {
   "cell_type": "code",
   "execution_count": 2,
   "metadata": {},
   "outputs": [
    {
     "name": "stdout",
     "output_type": "stream",
     "text": [
      "test5\n"
     ]
    }
   ],
   "source": [
    "# TODO: List the directories in the Fortnite folder && date_list file\n",
    "# fortnite_directory\n",
    "# print fortnite files\n",
    "# print date_list file"
   ]
  },
  {
   "cell_type": "code",
   "execution_count": null,
   "metadata": {},
   "outputs": [],
   "source": [
    "# TODO: Get the date/time of each file && date_list file list\n",
    "from datetime import datetime\n",
    "# strip out extraneous crap (\"FORTNITE\" && \"DVR\" && \"mp4\") from filenames\n",
    "# Convert to date/time\n",
    "# datetimeobj = datetime.strptime(string, format)\n",
    "# https://www.tutorialsteacher.com/articles/convert-string-to-datetime-in-python\n",
    "# map times to filenames\n",
    "# print everything"
   ]
  },
  {
   "cell_type": "code",
   "execution_count": null,
   "metadata": {},
   "outputs": [],
   "source": [
    "# TODO: Get files that have \"close\" times to date_list file\n",
    "# for every datetime in date_list:\n",
    "    # for every file_datetime:\n",
    "        # find all clips within XXX of datetime\n",
    "# write all clips found to file\n",
    "# print the result\n",
    "# TODO (Bonus) copy the chosen files to the \"uploads\" sub-directory"
   ]
  }
 ],
 "metadata": {
  "kernelspec": {
   "display_name": "Python 3.10.8 ('venv': venv)",
   "language": "python",
   "name": "python3"
  },
  "language_info": {
   "codemirror_mode": {
    "name": "ipython",
    "version": 3
   },
   "file_extension": ".py",
   "mimetype": "text/x-python",
   "name": "python",
   "nbconvert_exporter": "python",
   "pygments_lexer": "ipython3",
   "version": "3.10.8"
  },
  "orig_nbformat": 4,
  "vscode": {
   "interpreter": {
    "hash": "e973a2bde28f36062c718b2070ddfb4f7cce44841c2d6ec3ede879b5bb2a4a71"
   }
  }
 },
 "nbformat": 4,
 "nbformat_minor": 2
}
